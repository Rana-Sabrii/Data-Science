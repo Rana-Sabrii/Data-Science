{
 "cells": [
  {
   "cell_type": "markdown",
   "id": "0a547f3d",
   "metadata": {
    "id": "1klxYX36F11k",
    "papermill": {
     "duration": 0.004871,
     "end_time": "2023-11-07T22:49:35.444661",
     "exception": false,
     "start_time": "2023-11-07T22:49:35.439790",
     "status": "completed"
    },
    "tags": []
   },
   "source": [
    "# **SQLite**:\n",
    "**is an in-process library that implements a self-contained, serverless, zero-configuration, transactional SQL database engine.**"
   ]
  },
  {
   "cell_type": "markdown",
   "id": "8c5a90f2",
   "metadata": {
    "id": "AKtavxLrLZQQ",
    "papermill": {
     "duration": 0.004017,
     "end_time": "2023-11-07T22:49:35.452981",
     "exception": false,
     "start_time": "2023-11-07T22:49:35.448964",
     "status": "completed"
    },
    "tags": []
   },
   "source": [
    "# **SQLite**\n",
    "**is ACID-compliant and implements most of the SQL standards, using a dynamically and weakly typed SQL syntax that does not guarantee domain integrity.**"
   ]
  },
  {
   "cell_type": "markdown",
   "id": "1d874d36",
   "metadata": {
    "id": "PdGy44UQVkxY",
    "papermill": {
     "duration": 0.003971,
     "end_time": "2023-11-07T22:49:35.461205",
     "exception": false,
     "start_time": "2023-11-07T22:49:35.457234",
     "status": "completed"
    },
    "tags": []
   },
   "source": [
    "# **import SQLite**"
   ]
  },
  {
   "cell_type": "code",
   "execution_count": 1,
   "id": "afe0280e",
   "metadata": {
    "execution": {
     "iopub.execute_input": "2023-11-07T22:49:35.471067Z",
     "iopub.status.busy": "2023-11-07T22:49:35.470777Z",
     "iopub.status.idle": "2023-11-07T22:49:35.479507Z",
     "shell.execute_reply": "2023-11-07T22:49:35.478518Z"
    },
    "id": "mj825ywkN3wE",
    "papermill": {
     "duration": 0.015836,
     "end_time": "2023-11-07T22:49:35.481172",
     "exception": false,
     "start_time": "2023-11-07T22:49:35.465336",
     "status": "completed"
    },
    "tags": []
   },
   "outputs": [],
   "source": [
    "import sqlite3"
   ]
  },
  {
   "cell_type": "markdown",
   "id": "cc98c665",
   "metadata": {
    "id": "vfHnKwuUvfNX",
    "papermill": {
     "duration": 0.004048,
     "end_time": "2023-11-07T22:49:35.489454",
     "exception": false,
     "start_time": "2023-11-07T22:49:35.485406",
     "status": "completed"
    },
    "tags": []
   },
   "source": [
    "# **To perform SQLite commands in python we need 3 basic things to be done**\n",
    "\n",
    ">(1) Establish a connection with the database using the connect() method.\n",
    "\n",
    ">(2) Create a cursor object by using the cursor() method.\n",
    "\n",
    ">(3)Now SQLite queries/statements can be executed using the execute() method of the Cursor class."
   ]
  },
  {
   "cell_type": "markdown",
   "id": "57847e32",
   "metadata": {
    "id": "ecMS2GiHVoHV",
    "papermill": {
     "duration": 0.004069,
     "end_time": "2023-11-07T22:49:35.497791",
     "exception": false,
     "start_time": "2023-11-07T22:49:35.493722",
     "status": "completed"
    },
    "tags": []
   },
   "source": [
    "# **Connect to database**\n",
    "\n",
    ">**Syntax :**\n",
    ">\n",
    ">>**connection_obj_name = sqlite3.connect('Database_Name')**\n",
    "\n",
    "\n",
    "\n"
   ]
  },
  {
   "cell_type": "code",
   "execution_count": 2,
   "id": "a18fb452",
   "metadata": {
    "execution": {
     "iopub.execute_input": "2023-11-07T22:49:35.507965Z",
     "iopub.status.busy": "2023-11-07T22:49:35.507393Z",
     "iopub.status.idle": "2023-11-07T22:49:35.512217Z",
     "shell.execute_reply": "2023-11-07T22:49:35.511116Z"
    },
    "id": "bREmOQTAOFKv",
    "outputId": "40831286-2ba4-4994-85a8-2c650b990dfd",
    "papermill": {
     "duration": 0.011811,
     "end_time": "2023-11-07T22:49:35.513786",
     "exception": false,
     "start_time": "2023-11-07T22:49:35.501975",
     "status": "completed"
    },
    "tags": []
   },
   "outputs": [
    {
     "name": "stdout",
     "output_type": "stream",
     "text": [
      "DB connected\n"
     ]
    }
   ],
   "source": [
    "sqliteConnection = sqlite3.connect('DBName.db')\n",
    "print('DB connected')"
   ]
  },
  {
   "cell_type": "markdown",
   "id": "8da487f2",
   "metadata": {
    "id": "qUQWTbnEWAw0",
    "papermill": {
     "duration": 0.004117,
     "end_time": "2023-11-07T22:49:35.522172",
     "exception": false,
     "start_time": "2023-11-07T22:49:35.518055",
     "status": "completed"
    },
    "tags": []
   },
   "source": [
    "# **Cursor Object**\n",
    "**(1) It is an object that is used to make the connection for executing SQL queries.**\n",
    "\n",
    "**(2) It acts as middleware between SQLite database connection and SQL query.**\n",
    "\n",
    "**(3) It is created after giving connection to SQLite database.**\n",
    "\n",
    ">**Syntax:**\n",
    ">\n",
    ">>**cursor_object_name =connection_object_name.execute(“sql query”)**"
   ]
  },
  {
   "cell_type": "code",
   "execution_count": 3,
   "id": "f4ea916d",
   "metadata": {
    "execution": {
     "iopub.execute_input": "2023-11-07T22:49:35.532274Z",
     "iopub.status.busy": "2023-11-07T22:49:35.531828Z",
     "iopub.status.idle": "2023-11-07T22:49:35.535545Z",
     "shell.execute_reply": "2023-11-07T22:49:35.534967Z"
    },
    "id": "vCraqquSOKlN",
    "papermill": {
     "duration": 0.01046,
     "end_time": "2023-11-07T22:49:35.536928",
     "exception": false,
     "start_time": "2023-11-07T22:49:35.526468",
     "status": "completed"
    },
    "tags": []
   },
   "outputs": [],
   "source": [
    "cursor=sqliteConnection.cursor()"
   ]
  },
  {
   "cell_type": "markdown",
   "id": "0e9e5d20",
   "metadata": {
    "id": "UEKxr-I2WT2-",
    "papermill": {
     "duration": 0.004105,
     "end_time": "2023-11-07T22:49:35.545299",
     "exception": false,
     "start_time": "2023-11-07T22:49:35.541194",
     "status": "completed"
    },
    "tags": []
   },
   "source": [
    "# **Execute( )**\n",
    "\n",
    ">**The SQL query to be executed can be written in form of a string, and then executed by calling the *execute()* method on the cursor object.**"
   ]
  },
  {
   "cell_type": "code",
   "execution_count": 4,
   "id": "b96ac2e6",
   "metadata": {
    "execution": {
     "iopub.execute_input": "2023-11-07T22:49:35.555710Z",
     "iopub.status.busy": "2023-11-07T22:49:35.555063Z",
     "iopub.status.idle": "2023-11-07T22:49:35.561446Z",
     "shell.execute_reply": "2023-11-07T22:49:35.560681Z"
    },
    "id": "wz1T3pL_ONRB",
    "outputId": "c69582c0-b2cc-4728-effc-12f7e4349d0e",
    "papermill": {
     "duration": 0.013541,
     "end_time": "2023-11-07T22:49:35.563076",
     "exception": false,
     "start_time": "2023-11-07T22:49:35.549535",
     "status": "completed"
    },
    "tags": []
   },
   "outputs": [
    {
     "data": {
      "text/plain": [
       "<sqlite3.Cursor at 0x7cd43c3775c0>"
      ]
     },
     "execution_count": 4,
     "metadata": {},
     "output_type": "execute_result"
    }
   ],
   "source": [
    " # Write a query\n",
    "query = 'select sqlite_version();'\n",
    "\n",
    "#and execute it with cursor\n",
    "cursor.execute(query)"
   ]
  },
  {
   "cell_type": "markdown",
   "id": "79cfccfa",
   "metadata": {
    "id": "5u7KLr_7WcH0",
    "papermill": {
     "duration": 0.004218,
     "end_time": "2023-11-07T22:49:35.572252",
     "exception": false,
     "start_time": "2023-11-07T22:49:35.568034",
     "status": "completed"
    },
    "tags": []
   },
   "source": [
    "# **Fetchall( ) method**\n",
    "\n",
    ">**The result can be fetched from the server by using the *fetchall()* method, which in this case, is the SQLite Version Number.**"
   ]
  },
  {
   "cell_type": "code",
   "execution_count": 5,
   "id": "805e664b",
   "metadata": {
    "execution": {
     "iopub.execute_input": "2023-11-07T22:49:35.582678Z",
     "iopub.status.busy": "2023-11-07T22:49:35.582162Z",
     "iopub.status.idle": "2023-11-07T22:49:35.585889Z",
     "shell.execute_reply": "2023-11-07T22:49:35.585374Z"
    },
    "id": "hV0s_LtHOPIM",
    "papermill": {
     "duration": 0.010803,
     "end_time": "2023-11-07T22:49:35.587461",
     "exception": false,
     "start_time": "2023-11-07T22:49:35.576658",
     "status": "completed"
    },
    "tags": []
   },
   "outputs": [],
   "source": [
    " # Fetch and output result\n",
    "result = cursor.fetchall()"
   ]
  },
  {
   "cell_type": "code",
   "execution_count": 6,
   "id": "002669e8",
   "metadata": {
    "execution": {
     "iopub.execute_input": "2023-11-07T22:49:35.597898Z",
     "iopub.status.busy": "2023-11-07T22:49:35.597451Z",
     "iopub.status.idle": "2023-11-07T22:49:35.601660Z",
     "shell.execute_reply": "2023-11-07T22:49:35.600938Z"
    },
    "id": "nQ9pdY6jXNVS",
    "outputId": "c147f523-099e-4d61-b91a-3d30364d947f",
    "papermill": {
     "duration": 0.011193,
     "end_time": "2023-11-07T22:49:35.603232",
     "exception": false,
     "start_time": "2023-11-07T22:49:35.592039",
     "status": "completed"
    },
    "tags": []
   },
   "outputs": [
    {
     "name": "stdout",
     "output_type": "stream",
     "text": [
      "The Version of SQLite is : [('3.42.0',)]\n"
     ]
    }
   ],
   "source": [
    "print(f\"The Version of SQLite is : {result}\")"
   ]
  },
  {
   "cell_type": "markdown",
   "id": "5e4a4420",
   "metadata": {
    "id": "Dma2TZSzcXKw",
    "papermill": {
     "duration": 0.004322,
     "end_time": "2023-11-07T22:49:35.612042",
     "exception": false,
     "start_time": "2023-11-07T22:49:35.607720",
     "status": "completed"
    },
    "tags": []
   },
   "source": [
    "# **Close the cursor**"
   ]
  },
  {
   "cell_type": "code",
   "execution_count": 7,
   "id": "3160c31c",
   "metadata": {
    "execution": {
     "iopub.execute_input": "2023-11-07T22:49:35.622624Z",
     "iopub.status.busy": "2023-11-07T22:49:35.622083Z",
     "iopub.status.idle": "2023-11-07T22:49:35.625693Z",
     "shell.execute_reply": "2023-11-07T22:49:35.625145Z"
    },
    "id": "o0qx6VVXXRs_",
    "papermill": {
     "duration": 0.010635,
     "end_time": "2023-11-07T22:49:35.627274",
     "exception": false,
     "start_time": "2023-11-07T22:49:35.616639",
     "status": "completed"
    },
    "tags": []
   },
   "outputs": [],
   "source": [
    " # Close the cursor\n",
    "cursor.close()"
   ]
  },
  {
   "cell_type": "markdown",
   "id": "68d9f0d0",
   "metadata": {
    "id": "HXZra8e24d1Q",
    "papermill": {
     "duration": 0.004386,
     "end_time": "2023-11-07T22:49:35.636247",
     "exception": false,
     "start_time": "2023-11-07T22:49:35.631861",
     "status": "completed"
    },
    "tags": []
   },
   "source": [
    "# **Let's connect to chinook.db**"
   ]
  },
  {
   "cell_type": "code",
   "execution_count": 8,
   "id": "458dc10a",
   "metadata": {
    "execution": {
     "iopub.execute_input": "2023-11-07T22:49:35.646488Z",
     "iopub.status.busy": "2023-11-07T22:49:35.645951Z",
     "iopub.status.idle": "2023-11-07T22:49:35.657836Z",
     "shell.execute_reply": "2023-11-07T22:49:35.657244Z"
    },
    "id": "_N6VEs3I5cNF",
    "papermill": {
     "duration": 0.018971,
     "end_time": "2023-11-07T22:49:35.659620",
     "exception": false,
     "start_time": "2023-11-07T22:49:35.640649",
     "status": "completed"
    },
    "tags": []
   },
   "outputs": [],
   "source": [
    "#Import library\n",
    "import sqlite3\n",
    "\n",
    "#Make Connection\n",
    "sqliteConnection = sqlite3.connect('/kaggle/input/chinook/Chinook_Sqlite.sqlite')\n",
    "\n",
    "#Make Cursor\n",
    "cursor=sqliteConnection.cursor()"
   ]
  },
  {
   "cell_type": "markdown",
   "id": "0b36bb73",
   "metadata": {
    "papermill": {
     "duration": 0.004484,
     "end_time": "2023-11-07T22:49:35.668939",
     "exception": false,
     "start_time": "2023-11-07T22:49:35.664455",
     "status": "completed"
    },
    "tags": []
   },
   "source": [
    "# **Database Exploration**\n",
    ">**We can use SELECT Statement to explore what are the Names of tables included in this database**\n",
    "\n",
    ">**Synax:**\n",
    ">\n",
    ">>**SELECT NAME FROM sqlite_master;**"
   ]
  },
  {
   "cell_type": "code",
   "execution_count": 9,
   "id": "443b2533",
   "metadata": {
    "execution": {
     "iopub.execute_input": "2023-11-07T22:49:35.679302Z",
     "iopub.status.busy": "2023-11-07T22:49:35.678911Z",
     "iopub.status.idle": "2023-11-07T22:49:35.702962Z",
     "shell.execute_reply": "2023-11-07T22:49:35.702243Z"
    },
    "id": "4cnNKF5h2mM6",
    "outputId": "9d5c6576-efb1-433d-a91b-364a6922a4a5",
    "papermill": {
     "duration": 0.031344,
     "end_time": "2023-11-07T22:49:35.704723",
     "exception": false,
     "start_time": "2023-11-07T22:49:35.673379",
     "status": "completed"
    },
    "tags": []
   },
   "outputs": [
    {
     "data": {
      "text/plain": [
       "[('Album',),\n",
       " ('Artist',),\n",
       " ('Customer',),\n",
       " ('Employee',),\n",
       " ('Genre',),\n",
       " ('Invoice',),\n",
       " ('InvoiceLine',),\n",
       " ('MediaType',),\n",
       " ('Playlist',),\n",
       " ('PlaylistTrack',),\n",
       " ('sqlite_autoindex_PlaylistTrack_1',),\n",
       " ('Track',),\n",
       " ('IFK_AlbumArtistId',),\n",
       " ('IFK_CustomerSupportRepId',),\n",
       " ('IFK_EmployeeReportsTo',),\n",
       " ('IFK_InvoiceCustomerId',),\n",
       " ('IFK_InvoiceLineInvoiceId',),\n",
       " ('IFK_InvoiceLineTrackId',),\n",
       " ('IFK_PlaylistTrackTrackId',),\n",
       " ('IFK_TrackAlbumId',),\n",
       " ('IFK_TrackGenreId',),\n",
       " ('IFK_TrackMediaTypeId',)]"
      ]
     },
     "execution_count": 9,
     "metadata": {},
     "output_type": "execute_result"
    }
   ],
   "source": [
    "query = \"SELECT Name FROM sqlite_master;\"\n",
    "cursor.execute(query)\n",
    "cursor.fetchall()  # Output is all tables names"
   ]
  },
  {
   "cell_type": "markdown",
   "id": "0cefd054",
   "metadata": {
    "papermill": {
     "duration": 0.004582,
     "end_time": "2023-11-07T22:49:35.714340",
     "exception": false,
     "start_time": "2023-11-07T22:49:35.709758",
     "status": "completed"
    },
    "tags": []
   },
   "source": [
    ">**We can use PRAGMA Statement to explore what are the Metadata of tables included in this database**\n",
    "\n",
    ">**Synax:**\n",
    ">\n",
    ">>**PRAGMA table_info (table_name);**"
   ]
  },
  {
   "cell_type": "code",
   "execution_count": 10,
   "id": "2a0ece0e",
   "metadata": {
    "execution": {
     "iopub.execute_input": "2023-11-07T22:49:35.725307Z",
     "iopub.status.busy": "2023-11-07T22:49:35.724946Z",
     "iopub.status.idle": "2023-11-07T22:49:35.732736Z",
     "shell.execute_reply": "2023-11-07T22:49:35.732160Z"
    },
    "id": "KOANyOes1uK9",
    "outputId": "7510e2a9-367a-4f4a-bbb7-cc01c44eb110",
    "papermill": {
     "duration": 0.015066,
     "end_time": "2023-11-07T22:49:35.734335",
     "exception": false,
     "start_time": "2023-11-07T22:49:35.719269",
     "status": "completed"
    },
    "tags": []
   },
   "outputs": [
    {
     "data": {
      "text/plain": [
       "[(0, 'AlbumId', 'INTEGER', 1, None, 1),\n",
       " (1, 'Title', 'NVARCHAR(160)', 1, None, 0),\n",
       " (2, 'ArtistId', 'INTEGER', 1, None, 0)]"
      ]
     },
     "execution_count": 10,
     "metadata": {},
     "output_type": "execute_result"
    }
   ],
   "source": [
    "#Metada of Album Table\n",
    "query = \"\"\" PRAGMA table_info (Album); \"\"\"\n",
    "cursor.execute(query)\n",
    "result =cursor.fetchall()\n",
    "result"
   ]
  },
  {
   "cell_type": "code",
   "execution_count": 11,
   "id": "7ed0f61d",
   "metadata": {
    "execution": {
     "iopub.execute_input": "2023-11-07T22:49:35.745338Z",
     "iopub.status.busy": "2023-11-07T22:49:35.744871Z",
     "iopub.status.idle": "2023-11-07T22:49:35.754797Z",
     "shell.execute_reply": "2023-11-07T22:49:35.753921Z"
    },
    "papermill": {
     "duration": 0.017256,
     "end_time": "2023-11-07T22:49:35.756491",
     "exception": false,
     "start_time": "2023-11-07T22:49:35.739235",
     "status": "completed"
    },
    "tags": []
   },
   "outputs": [
    {
     "data": {
      "text/plain": [
       "[(0, 'ArtistId', 'INTEGER', 1, None, 1),\n",
       " (1, 'Name', 'NVARCHAR(120)', 0, None, 0)]"
      ]
     },
     "execution_count": 11,
     "metadata": {},
     "output_type": "execute_result"
    }
   ],
   "source": [
    "#Metada of Artist Table\n",
    "query = \"\"\" PRAGMA table_info (Artist); \"\"\"\n",
    "cursor.execute(query)\n",
    "result =cursor.fetchall()\n",
    "result"
   ]
  },
  {
   "cell_type": "code",
   "execution_count": 12,
   "id": "73462e24",
   "metadata": {
    "execution": {
     "iopub.execute_input": "2023-11-07T22:49:35.767698Z",
     "iopub.status.busy": "2023-11-07T22:49:35.767224Z",
     "iopub.status.idle": "2023-11-07T22:49:35.774089Z",
     "shell.execute_reply": "2023-11-07T22:49:35.773548Z"
    },
    "papermill": {
     "duration": 0.014173,
     "end_time": "2023-11-07T22:49:35.775589",
     "exception": false,
     "start_time": "2023-11-07T22:49:35.761416",
     "status": "completed"
    },
    "tags": []
   },
   "outputs": [
    {
     "data": {
      "text/plain": [
       "[(0, 'PlaylistId', 'INTEGER', 1, None, 1),\n",
       " (1, 'Name', 'NVARCHAR(120)', 0, None, 0)]"
      ]
     },
     "execution_count": 12,
     "metadata": {},
     "output_type": "execute_result"
    }
   ],
   "source": [
    "#Metada of Playlist Table\n",
    "query = \"\"\" PRAGMA table_info (Playlist); \"\"\"\n",
    "cursor.execute(query)\n",
    "result =cursor.fetchall()\n",
    "result"
   ]
  }
 ],
 "metadata": {
  "kernelspec": {
   "display_name": "Python 3",
   "language": "python",
   "name": "python3"
  },
  "language_info": {
   "codemirror_mode": {
    "name": "ipython",
    "version": 3
   },
   "file_extension": ".py",
   "mimetype": "text/x-python",
   "name": "python",
   "nbconvert_exporter": "python",
   "pygments_lexer": "ipython3",
   "version": "3.10.12"
  },
  "papermill": {
   "default_parameters": {},
   "duration": 3.033034,
   "end_time": "2023-11-07T22:49:35.998738",
   "environment_variables": {},
   "exception": null,
   "input_path": "__notebook__.ipynb",
   "output_path": "__notebook__.ipynb",
   "parameters": {},
   "start_time": "2023-11-07T22:49:32.965704",
   "version": "2.4.0"
  }
 },
 "nbformat": 4,
 "nbformat_minor": 5
}
